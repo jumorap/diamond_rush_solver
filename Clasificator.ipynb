{
 "cells": [
  {
   "cell_type": "code",
   "execution_count": 39,
   "metadata": {},
   "outputs": [],
   "source": [
    "import os\n",
    "from PIL import Image\n",
    "import imagehash\n",
    "from collections import namedtuple\n",
    "from colorthief import ColorThief\n",
    "import math"
   ]
  },
  {
   "cell_type": "code",
   "execution_count": 4,
   "metadata": {},
   "outputs": [],
   "source": [
    "#utils \n",
    "def convertToArray(image_hashes):\n",
    "    image_hashes_array = []\n",
    "    for image_class in image_hashes:\n",
    "        for image_hash in image_hashes[image_class]:\n",
    "            image_hashes_array.append((image_class, image_hash))\n",
    "    return image_hashes_array\n",
    "\n",
    "def convert_into_matrix(array, row, cols):\n",
    "    matrix = []\n",
    "    for i in range(0, row):\n",
    "        matrix.append(array[i*cols:(i+1)*cols])\n",
    "    return matrix\n"
   ]
  },
  {
   "cell_type": "code",
   "execution_count": 19,
   "metadata": {},
   "outputs": [],
   "source": [
    "#return a sorted array with all the hashes of the images\n",
    "def getAllImageHashes():\n",
    "    image_classes = os.listdir(\"./images\")\n",
    "    image_hashes = {i : set() for i in image_classes}\n",
    "    for image_class in image_classes:\n",
    "        images = os.listdir(\"./images/\" + image_class)\n",
    "        for image in images:\n",
    "            image = Image.open(\"./images/\" + image_class + \"/\" + image)\n",
    "            image_hash = imagehash.average_hash(image)\n",
    "            image_hashes[image_class].add(image_hash)\n",
    "\n",
    "    return convertToArray(image_hashes)\n",
    "\n",
    "\n",
    "def getAllImageColors():\n",
    "    image_classes = os.listdir(\"./images\")\n",
    "    image_colors = {i : set() for i in image_classes}\n",
    "    for image_class in image_classes:\n",
    "        images = os.listdir(\"./images/\" + image_class)\n",
    "        for image in images:\n",
    "            image = Image.open(\"./images/\" + image_class + \"/\" + image)\n",
    "            image_color = ColorThief(image)\n",
    "            color = image_color.get_palette(color_count=3)[1]\n",
    "            print(color)\n",
    "            image_colors[image_class].add(color)\n",
    "    return convertToArray(image_colors)"
   ]
  },
  {
   "cell_type": "code",
   "execution_count": 6,
   "metadata": {},
   "outputs": [],
   "source": [
    "#save image colors in a file\n",
    "def saveImageColors(allImageColors):\n",
    "    with open(\"imageColors.txt\", \"w\") as f:\n",
    "        for image_class, image_color in allImageColors:\n",
    "            f.write(str(image_class) + \" \" + str(image_color[0]) + \" \" + str(image_color[1]) +\" \"+ str(image_color[2]) + \"\\n\")\n",
    "\n",
    "def readImageColors():\n",
    "    image_colors_list = []\n",
    "    with open(\"imageColors.txt\", \"r\") as f:\n",
    "        for line in f:\n",
    "            line = line.split()\n",
    "            image_class = line[0]\n",
    "            image_color = (int(line[1]), int(line[2]), int(line[3]))\n",
    "            image_colors_list.append((image_class, image_color))\n",
    "\n",
    "    #convert allImageColors into a dictionary\n",
    "    image_classes = ['R' ,'D' ,'P' ,'M'  ,'W' ,'A' ,'C' ,'K' ,'L' ,'S', 'H' ,'B' ,'U']\n",
    "    image_colors = {i : set() for i in image_classes}\n",
    "    for image_class, image_color in image_colors_list:\n",
    "        image_colors[image_class].add(image_color)\n",
    "    \n",
    "    return image_colors\n",
    "\n",
    "#function to save images hashes in a file as\n",
    "def saveImageHashes(allImageHashed):\n",
    "    with open(\"imageHashes.txt\", \"w\") as f:\n",
    "        for image_class, image_hash in allImageHashed:\n",
    "            f.write(str(image_class) + \" \" + str(image_hash) + \"\\n\")\n",
    "\n",
    "def readImageHashes():\n",
    "    image_hashes = []\n",
    "    with open(\"imageHashes.txt\", \"r\") as f:\n",
    "        for line in f:\n",
    "            line = line.split()\n",
    "            image_class = line[0]\n",
    "            image_hash = int(line[1])\n",
    "            image_hashes.append((image_class, image_hash))\n",
    "    return image_hashes"
   ]
  },
  {
   "cell_type": "code",
   "execution_count": 56,
   "metadata": {},
   "outputs": [],
   "source": [
    "allImageHashed = getAllImageHashes()\n",
    "#allImageColors = getAllImageColors()\n",
    "\n"
   ]
  },
  {
   "cell_type": "code",
   "execution_count": 25,
   "metadata": {},
   "outputs": [],
   "source": [
    "#convert allImageHashed into a dictionary\n",
    "image_classes = ['R' ,'D' ,'P' ,'M'  ,'W' ,'A' ,'C' ,'K' ,'L' ,'S', 'H' ,'B' ,'U']\n",
    "image_colors = {i : set() for i in image_classes}\n",
    "for image_class, image_color in allImageColors:\n",
    "    image_colors[image_class].add(image_color)\n",
    "    \n",
    "allImageColors = image_colors"
   ]
  },
  {
   "cell_type": "code",
   "execution_count": 63,
   "metadata": {},
   "outputs": [],
   "source": [
    "#given an image, compares by hash with the stored images and returns the class\n",
    "def getClass(image, image_hashes_array, image_colors_dict, cutoff):\n",
    "    image_hash = imagehash.average_hash(image)\n",
    "    image_color = ColorThief(image).get_color(quality=1)\n",
    "    morePossibleClasses = []\n",
    "    for image_class, image_values_stored in image_hashes_array:\n",
    "        image_distance = image_hash - image_values_stored\n",
    "        if(image_distance < cutoff):\n",
    "            morePossibleClasses.append((image_distance, image_class))\n",
    "    \n",
    "    return getMorePossibleClasses(morePossibleClasses, image_colors_dict, image_color)\n",
    "\n",
    "\n",
    "def getDistanceBetweenColors(color1, color2):\n",
    "    return math.sqrt((color1[0]-color2[0])**2 + (color1[1]-color2[1])**2 + (color1[2]-color2[2])**2)\n",
    "\n",
    "def filterClassesByColor(possibleClasses, image_colors_dict, image_color):\n",
    "    #check for the closest similarity in the colors\n",
    "    clossestColorDistance = 10000\n",
    "    closestColorClass = \"\"\n",
    "    for distance , kind in possibleClasses:\n",
    "        for color in image_colors_dict[kind]:\n",
    "            colorDistance = getDistanceBetweenColors(color, image_color)\n",
    "            if colorDistance < clossestColorDistance:\n",
    "                clossestColorDistance = colorDistance\n",
    "                closestColorClass = (distance, kind)\n",
    "\n",
    "    return [closestColorClass]\n",
    "\n",
    "#given an array of tuples (distance, class), returns the class with the lowest distance\n",
    "def getMorePossibleClasses(morePossibleClasses, image_colors_dict, image_color):\n",
    "    if(len(morePossibleClasses) == 0):\n",
    "        return [(-1, \"UK\")]\n",
    "\n",
    "    morePossibleClasses.sort(key=lambda x: x[0])\n",
    "    if(len(morePossibleClasses) > 5): #limit the number of classes to 5\n",
    "        morePossibleClasses = morePossibleClasses[:5]\n",
    "\n",
    "    #delete repeated classes\n",
    "    classesSet = set()\n",
    "    NotRepetitiveClasses = []\n",
    "    for i in range(len(morePossibleClasses)):\n",
    "        if(morePossibleClasses[i][1] not in classesSet):\n",
    "            classesSet.add(morePossibleClasses[i][1])\n",
    "            NotRepetitiveClasses.append(morePossibleClasses[i])\n",
    "\n",
    "    if len(NotRepetitiveClasses) > 1 and NotRepetitiveClasses[0][0] in [0,1]:\n",
    "        return [NotRepetitiveClasses[0]]\n",
    "\n",
    "    \n",
    "    if len(NotRepetitiveClasses)  > 1:\n",
    "        for i in range(len(NotRepetitiveClasses)):\n",
    "            if(NotRepetitiveClasses[i][1] in [\"P\", \"D\"]): #if the class is P or D, return it\n",
    "                return [(-1,NotRepetitiveClasses[i][1])]\n",
    "        for i in range(len(NotRepetitiveClasses)):  #if there is W return it\n",
    "            if(NotRepetitiveClasses[i][1] in [\"W\"]):\n",
    "                return [(-1, \"W\")]\n",
    "\n",
    "\n",
    "    if len(NotRepetitiveClasses) == 2:\n",
    "        if(NotRepetitiveClasses[0][1] in [\"M\", \"B\"] and NotRepetitiveClasses[1][1] in [\"M\", \"B\"]):\n",
    "            return [(-1, \"M\")]\n",
    "\n",
    "    return filterClassesByColor(NotRepetitiveClasses, image_colors_dict, image_color)\n",
    "\n",
    "    "
   ]
  },
  {
   "cell_type": "code",
   "execution_count": 64,
   "metadata": {},
   "outputs": [
    {
     "name": "stdout",
     "output_type": "stream",
     "text": [
      "[(9, 'L')]\n"
     ]
    }
   ],
   "source": [
    "image = Image.open(\"./images_utils/blocks/b_12x7.png\")\n",
    "print(getClass(image, allImageHashed, allImageColors ,16))"
   ]
  },
  {
   "cell_type": "code",
   "execution_count": null,
   "metadata": {},
   "outputs": [],
   "source": [
    "#given an array of images in PIL format, returns the class of each image \n",
    "def classify_full_image(images_block, images_blocks_paths, cutoff = 20):\n",
    "\n",
    "    image_hashes_array = getAllImageHashes() #save this somewere to save procesing\n",
    "    image_colors_dict = readImageColors() \n",
    "\n",
    "    image_classes = []\n",
    "    for image_block, path in zip(images_block, images_blocks_paths):\n",
    "        image_class = getClass(image_block, image_hashes_array, image_colors_dict, cutoff)\n",
    "        image_classes.append((image_class, path))\n",
    "    return image_classes\n",
    "    \n",
    "images_blocks_paths = os.listdir(\"./images_utils/blocks\")\n",
    "images_list = [Image.open(\"./images_utils/blocks/\" + image_block_path) for image_block_path in images_blocks_paths]\n",
    "\n",
    "clasified_images = classify_full_image(images_list,  images_blocks_paths, 16)\n",
    "\n",
    "for i in clasified_images:\n",
    "    print(i[0][0][1])"
   ]
  },
  {
   "cell_type": "code",
   "execution_count": 67,
   "metadata": {},
   "outputs": [
    {
     "name": "stdout",
     "output_type": "stream",
     "text": [
      "['0', '0']\n"
     ]
    }
   ],
   "source": [
    "path = \"b_0x0.png\"\n",
    "path = path.split(\"_\")[1]\n",
    "path = path.split(\".\")[0]\n",
    "coordinates = path.split(\"x\")\n",
    "print(coordinates)"
   ]
  },
  {
   "cell_type": "code",
   "execution_count": null,
   "metadata": {},
   "outputs": [],
   "source": []
  }
 ],
 "metadata": {
  "kernelspec": {
   "display_name": "Python 3.8.10 64-bit",
   "language": "python",
   "name": "python3"
  },
  "language_info": {
   "codemirror_mode": {
    "name": "ipython",
    "version": 3
   },
   "file_extension": ".py",
   "mimetype": "text/x-python",
   "name": "python",
   "nbconvert_exporter": "python",
   "pygments_lexer": "ipython3",
   "version": "3.8.10"
  },
  "orig_nbformat": 4,
  "vscode": {
   "interpreter": {
    "hash": "e9e17ab8af7476d8cd494cc79e60bf3b60591b804afee94562fca77ec5d46d53"
   }
  }
 },
 "nbformat": 4,
 "nbformat_minor": 2
}
